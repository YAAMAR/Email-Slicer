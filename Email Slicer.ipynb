{
 "cells": [
  {
   "cell_type": "markdown",
   "id": "823afdf2-bba5-4afd-9adf-57a0631d8a0a",
   "metadata": {},
   "source": [
    "Email Slicer"
   ]
  },
  {
   "cell_type": "markdown",
   "id": "a4072553-5afb-4f6b-a5c0-1a7bc8327826",
   "metadata": {},
   "source": [
    "🎯 Goal\n",
    "Extract the username and domain from an email address."
   ]
  },
  {
   "cell_type": "markdown",
   "id": "970101d7-7c02-448c-ac66-93284b3ea694",
   "metadata": {},
   "source": [
    "Get the Email Input from User"
   ]
  },
  {
   "cell_type": "code",
   "execution_count": 1,
   "id": "2d3b3458-b189-4dc9-b90b-c2ecec871efa",
   "metadata": {},
   "outputs": [
    {
     "name": "stdin",
     "output_type": "stream",
     "text": [
      "Enter your email address:  yaamar@gmail.com\n"
     ]
    }
   ],
   "source": [
    "email = input(\"Enter your email address: \")\n"
   ]
  },
  {
   "cell_type": "markdown",
   "id": "c561ebb0-7473-4dc3-bb6d-0dd34e768ca7",
   "metadata": {},
   "source": [
    "Split the Email into Parts"
   ]
  },
  {
   "cell_type": "code",
   "execution_count": 2,
   "id": "161ead25-0b26-4de9-8f74-57bc46f7db17",
   "metadata": {},
   "outputs": [
    {
     "name": "stdout",
     "output_type": "stream",
     "text": [
      "Username: yaamar\n",
      "Domain : gmail.com\n"
     ]
    }
   ],
   "source": [
    "try:\n",
    "    username, domain = email.split(\"@\")\n",
    "    print(\"Username:\", username)\n",
    "    print(\"Domain :\", domain)\n",
    "except ValueError:\n",
    "    print(\"Invalid email format. Please include '@'\")\n"
   ]
  },
  {
   "cell_type": "code",
   "execution_count": null,
   "id": "61b59456-c11d-4e61-b539-2f8f7bfed1f4",
   "metadata": {},
   "outputs": [],
   "source": []
  }
 ],
 "metadata": {
  "kernelspec": {
   "display_name": "Python 3 (ipykernel)",
   "language": "python",
   "name": "python3"
  },
  "language_info": {
   "codemirror_mode": {
    "name": "ipython",
    "version": 3
   },
   "file_extension": ".py",
   "mimetype": "text/x-python",
   "name": "python",
   "nbconvert_exporter": "python",
   "pygments_lexer": "ipython3",
   "version": "3.12.7"
  }
 },
 "nbformat": 4,
 "nbformat_minor": 5
}
